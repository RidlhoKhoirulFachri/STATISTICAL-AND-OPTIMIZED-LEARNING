{
  "nbformat": 4,
  "nbformat_minor": 0,
  "metadata": {
    "kernelspec": {
      "display_name": "Python 3 (system-wide)",
      "language": "python",
      "metadata": {
        "cocalc": {
          "description": "Python 3 programming language",
          "priority": 100,
          "url": "https://www.python.org/"
        }
      },
      "name": "python3"
    },
    "language_info": {
      "codemirror_mode": {
        "name": "ipython",
        "version": 3
      },
      "file_extension": ".py",
      "mimetype": "text/x-python",
      "name": "python",
      "nbconvert_exporter": "python",
      "pygments_lexer": "ipython3",
      "version": "3.6.8"
    },
    "colab": {
      "name": "RidlhoKhoirulFachri_UAS_SLO.ipynb",
      "provenance": [],
      "collapsed_sections": []
    }
  },
  "cells": [
    {
      "cell_type": "code",
      "metadata": {
        "id": "PDB9UOyp8TVw"
      },
      "source": [
        "from google.colab import drive\n",
        "drive.mount('/content/drive')"
      ],
      "execution_count": null,
      "outputs": []
    },
    {
      "cell_type": "code",
      "metadata": {
        "colab": {
          "base_uri": "https://localhost:8080/"
        },
        "id": "A_uZVJpWDO0u",
        "outputId": "eb19792d-bbeb-43ea-b110-9a3cd9f59ff8"
      },
      "source": [
        "cd /content/drive/MyDrive/Colab Notebooks"
      ],
      "execution_count": 8,
      "outputs": [
        {
          "output_type": "stream",
          "text": [
            "/content/drive/MyDrive/Colab Notebooks\n"
          ],
          "name": "stdout"
        }
      ]
    },
    {
      "cell_type": "code",
      "metadata": {
        "id": "1IkPXCwDgRJC"
      },
      "source": [
        "# import the necessary packages\n",
        "from sklearn.neighbors import KNeighborsClassifier\n",
        "from sklearn.naive_bayes import GaussianNB\n",
        "from sklearn.linear_model import LogisticRegression\n",
        "from sklearn.svm import SVC\n",
        "from sklearn.tree import DecisionTreeClassifier\n",
        "from sklearn.ensemble import RandomForestClassifier\n",
        "from sklearn.neural_network import MLPClassifier\n",
        "from sklearn.model_selection import train_test_split\n",
        "from sklearn.metrics import classification_report\n",
        "# from sklearn.datasets import load_iris"
      ],
      "execution_count": 9,
      "outputs": []
    },
    {
      "cell_type": "code",
      "metadata": {
        "id": "3tAnSVBc4lor"
      },
      "source": [
        "# from sklearn.datasets import load_iris\n",
        "import numpy as np\n",
        "import pandas as pd\n",
        "import matplotlib.pyplot as plt"
      ],
      "execution_count": 10,
      "outputs": []
    },
    {
      "cell_type": "code",
      "metadata": {
        "colab": {
          "base_uri": "https://localhost:8080/",
          "height": 241
        },
        "id": "ZLsTWZHS4n3I",
        "outputId": "2439907e-57d6-44cc-b017-bebcef8aabde"
      },
      "source": [
        "df = pd.read_csv('data_cancer.csv')\n",
        "# df = pd.read_excel(\"xxx.xls\", sheet_name=\"sheet 1\")\n",
        "df.head()"
      ],
      "execution_count": 11,
      "outputs": [
        {
          "output_type": "execute_result",
          "data": {
            "text/html": [
              "<div>\n",
              "<style scoped>\n",
              "    .dataframe tbody tr th:only-of-type {\n",
              "        vertical-align: middle;\n",
              "    }\n",
              "\n",
              "    .dataframe tbody tr th {\n",
              "        vertical-align: top;\n",
              "    }\n",
              "\n",
              "    .dataframe thead th {\n",
              "        text-align: right;\n",
              "    }\n",
              "</style>\n",
              "<table border=\"1\" class=\"dataframe\">\n",
              "  <thead>\n",
              "    <tr style=\"text-align: right;\">\n",
              "      <th></th>\n",
              "      <th>id</th>\n",
              "      <th>diagnosis</th>\n",
              "      <th>radius_mean</th>\n",
              "      <th>texture_mean</th>\n",
              "      <th>perimeter_mean</th>\n",
              "      <th>area_mean</th>\n",
              "      <th>smoothness_mean</th>\n",
              "      <th>compactness_mean</th>\n",
              "      <th>concavity_mean</th>\n",
              "      <th>concave points_mean</th>\n",
              "      <th>symmetry_mean</th>\n",
              "      <th>fractal_dimension_mean</th>\n",
              "      <th>radius_se</th>\n",
              "      <th>texture_se</th>\n",
              "      <th>perimeter_se</th>\n",
              "      <th>area_se</th>\n",
              "      <th>smoothness_se</th>\n",
              "      <th>compactness_se</th>\n",
              "      <th>concavity_se</th>\n",
              "      <th>concave points_se</th>\n",
              "      <th>symmetry_se</th>\n",
              "      <th>fractal_dimension_se</th>\n",
              "      <th>radius_worst</th>\n",
              "      <th>texture_worst</th>\n",
              "      <th>perimeter_worst</th>\n",
              "      <th>area_worst</th>\n",
              "      <th>smoothness_worst</th>\n",
              "      <th>compactness_worst</th>\n",
              "      <th>concavity_worst</th>\n",
              "      <th>concave points_worst</th>\n",
              "      <th>symmetry_worst</th>\n",
              "      <th>fractal_dimension_worst</th>\n",
              "      <th>Unnamed: 32</th>\n",
              "    </tr>\n",
              "  </thead>\n",
              "  <tbody>\n",
              "    <tr>\n",
              "      <th>0</th>\n",
              "      <td>842302</td>\n",
              "      <td>M</td>\n",
              "      <td>17.99</td>\n",
              "      <td>10.38</td>\n",
              "      <td>122.80</td>\n",
              "      <td>1001.0</td>\n",
              "      <td>0.11840</td>\n",
              "      <td>0.27760</td>\n",
              "      <td>0.3001</td>\n",
              "      <td>0.14710</td>\n",
              "      <td>0.2419</td>\n",
              "      <td>0.07871</td>\n",
              "      <td>1.0950</td>\n",
              "      <td>0.9053</td>\n",
              "      <td>8.589</td>\n",
              "      <td>153.40</td>\n",
              "      <td>0.006399</td>\n",
              "      <td>0.04904</td>\n",
              "      <td>0.05373</td>\n",
              "      <td>0.01587</td>\n",
              "      <td>0.03003</td>\n",
              "      <td>0.006193</td>\n",
              "      <td>25.38</td>\n",
              "      <td>17.33</td>\n",
              "      <td>184.60</td>\n",
              "      <td>2019.0</td>\n",
              "      <td>0.1622</td>\n",
              "      <td>0.6656</td>\n",
              "      <td>0.7119</td>\n",
              "      <td>0.2654</td>\n",
              "      <td>0.4601</td>\n",
              "      <td>0.11890</td>\n",
              "      <td>NaN</td>\n",
              "    </tr>\n",
              "    <tr>\n",
              "      <th>1</th>\n",
              "      <td>842517</td>\n",
              "      <td>M</td>\n",
              "      <td>20.57</td>\n",
              "      <td>17.77</td>\n",
              "      <td>132.90</td>\n",
              "      <td>1326.0</td>\n",
              "      <td>0.08474</td>\n",
              "      <td>0.07864</td>\n",
              "      <td>0.0869</td>\n",
              "      <td>0.07017</td>\n",
              "      <td>0.1812</td>\n",
              "      <td>0.05667</td>\n",
              "      <td>0.5435</td>\n",
              "      <td>0.7339</td>\n",
              "      <td>3.398</td>\n",
              "      <td>74.08</td>\n",
              "      <td>0.005225</td>\n",
              "      <td>0.01308</td>\n",
              "      <td>0.01860</td>\n",
              "      <td>0.01340</td>\n",
              "      <td>0.01389</td>\n",
              "      <td>0.003532</td>\n",
              "      <td>24.99</td>\n",
              "      <td>23.41</td>\n",
              "      <td>158.80</td>\n",
              "      <td>1956.0</td>\n",
              "      <td>0.1238</td>\n",
              "      <td>0.1866</td>\n",
              "      <td>0.2416</td>\n",
              "      <td>0.1860</td>\n",
              "      <td>0.2750</td>\n",
              "      <td>0.08902</td>\n",
              "      <td>NaN</td>\n",
              "    </tr>\n",
              "    <tr>\n",
              "      <th>2</th>\n",
              "      <td>84300903</td>\n",
              "      <td>M</td>\n",
              "      <td>19.69</td>\n",
              "      <td>21.25</td>\n",
              "      <td>130.00</td>\n",
              "      <td>1203.0</td>\n",
              "      <td>0.10960</td>\n",
              "      <td>0.15990</td>\n",
              "      <td>0.1974</td>\n",
              "      <td>0.12790</td>\n",
              "      <td>0.2069</td>\n",
              "      <td>0.05999</td>\n",
              "      <td>0.7456</td>\n",
              "      <td>0.7869</td>\n",
              "      <td>4.585</td>\n",
              "      <td>94.03</td>\n",
              "      <td>0.006150</td>\n",
              "      <td>0.04006</td>\n",
              "      <td>0.03832</td>\n",
              "      <td>0.02058</td>\n",
              "      <td>0.02250</td>\n",
              "      <td>0.004571</td>\n",
              "      <td>23.57</td>\n",
              "      <td>25.53</td>\n",
              "      <td>152.50</td>\n",
              "      <td>1709.0</td>\n",
              "      <td>0.1444</td>\n",
              "      <td>0.4245</td>\n",
              "      <td>0.4504</td>\n",
              "      <td>0.2430</td>\n",
              "      <td>0.3613</td>\n",
              "      <td>0.08758</td>\n",
              "      <td>NaN</td>\n",
              "    </tr>\n",
              "    <tr>\n",
              "      <th>3</th>\n",
              "      <td>84348301</td>\n",
              "      <td>M</td>\n",
              "      <td>11.42</td>\n",
              "      <td>20.38</td>\n",
              "      <td>77.58</td>\n",
              "      <td>386.1</td>\n",
              "      <td>0.14250</td>\n",
              "      <td>0.28390</td>\n",
              "      <td>0.2414</td>\n",
              "      <td>0.10520</td>\n",
              "      <td>0.2597</td>\n",
              "      <td>0.09744</td>\n",
              "      <td>0.4956</td>\n",
              "      <td>1.1560</td>\n",
              "      <td>3.445</td>\n",
              "      <td>27.23</td>\n",
              "      <td>0.009110</td>\n",
              "      <td>0.07458</td>\n",
              "      <td>0.05661</td>\n",
              "      <td>0.01867</td>\n",
              "      <td>0.05963</td>\n",
              "      <td>0.009208</td>\n",
              "      <td>14.91</td>\n",
              "      <td>26.50</td>\n",
              "      <td>98.87</td>\n",
              "      <td>567.7</td>\n",
              "      <td>0.2098</td>\n",
              "      <td>0.8663</td>\n",
              "      <td>0.6869</td>\n",
              "      <td>0.2575</td>\n",
              "      <td>0.6638</td>\n",
              "      <td>0.17300</td>\n",
              "      <td>NaN</td>\n",
              "    </tr>\n",
              "    <tr>\n",
              "      <th>4</th>\n",
              "      <td>84358402</td>\n",
              "      <td>M</td>\n",
              "      <td>20.29</td>\n",
              "      <td>14.34</td>\n",
              "      <td>135.10</td>\n",
              "      <td>1297.0</td>\n",
              "      <td>0.10030</td>\n",
              "      <td>0.13280</td>\n",
              "      <td>0.1980</td>\n",
              "      <td>0.10430</td>\n",
              "      <td>0.1809</td>\n",
              "      <td>0.05883</td>\n",
              "      <td>0.7572</td>\n",
              "      <td>0.7813</td>\n",
              "      <td>5.438</td>\n",
              "      <td>94.44</td>\n",
              "      <td>0.011490</td>\n",
              "      <td>0.02461</td>\n",
              "      <td>0.05688</td>\n",
              "      <td>0.01885</td>\n",
              "      <td>0.01756</td>\n",
              "      <td>0.005115</td>\n",
              "      <td>22.54</td>\n",
              "      <td>16.67</td>\n",
              "      <td>152.20</td>\n",
              "      <td>1575.0</td>\n",
              "      <td>0.1374</td>\n",
              "      <td>0.2050</td>\n",
              "      <td>0.4000</td>\n",
              "      <td>0.1625</td>\n",
              "      <td>0.2364</td>\n",
              "      <td>0.07678</td>\n",
              "      <td>NaN</td>\n",
              "    </tr>\n",
              "  </tbody>\n",
              "</table>\n",
              "</div>"
            ],
            "text/plain": [
              "         id diagnosis  ...  fractal_dimension_worst  Unnamed: 32\n",
              "0    842302         M  ...                  0.11890          NaN\n",
              "1    842517         M  ...                  0.08902          NaN\n",
              "2  84300903         M  ...                  0.08758          NaN\n",
              "3  84348301         M  ...                  0.17300          NaN\n",
              "4  84358402         M  ...                  0.07678          NaN\n",
              "\n",
              "[5 rows x 33 columns]"
            ]
          },
          "metadata": {
            "tags": []
          },
          "execution_count": 11
        }
      ]
    },
    {
      "cell_type": "code",
      "metadata": {
        "colab": {
          "base_uri": "https://localhost:8080/"
        },
        "id": "_EvzBkNa6wV5",
        "outputId": "fc4584b8-ef62-4f62-9b77-6a4260a17841"
      },
      "source": [
        "test_X = df.iloc[0:10,[2,3,4,5]].values\n",
        "print(test_X.shape)"
      ],
      "execution_count": 12,
      "outputs": [
        {
          "output_type": "stream",
          "text": [
            "(10, 4)\n"
          ],
          "name": "stdout"
        }
      ]
    },
    {
      "cell_type": "code",
      "metadata": {
        "id": "vwUdBnpI4fMX"
      },
      "source": [
        "X = df.iloc[:,[2,3,4,5]].values\n",
        "Y = df.iloc[:,[1]].values"
      ],
      "execution_count": 13,
      "outputs": []
    },
    {
      "cell_type": "code",
      "metadata": {
        "id": "KwM9k-xaER1p",
        "colab": {
          "base_uri": "https://localhost:8080/"
        },
        "outputId": "fe3d542e-4148-477d-8f54-865741825d82"
      },
      "source": [
        "print(Y)"
      ],
      "execution_count": 14,
      "outputs": [
        {
          "output_type": "stream",
          "text": [
            "[['M']\n",
            " ['M']\n",
            " ['M']\n",
            " ['M']\n",
            " ['M']\n",
            " ['M']\n",
            " ['M']\n",
            " ['M']\n",
            " ['M']\n",
            " ['M']\n",
            " ['M']\n",
            " ['M']\n",
            " ['M']\n",
            " ['M']\n",
            " ['M']\n",
            " ['M']\n",
            " ['M']\n",
            " ['M']\n",
            " ['M']\n",
            " ['B']\n",
            " ['B']\n",
            " ['B']\n",
            " ['M']\n",
            " ['M']\n",
            " ['M']\n",
            " ['M']\n",
            " ['M']\n",
            " ['M']\n",
            " ['M']\n",
            " ['M']\n",
            " ['M']\n",
            " ['M']\n",
            " ['M']\n",
            " ['M']\n",
            " ['M']\n",
            " ['M']\n",
            " ['M']\n",
            " ['B']\n",
            " ['M']\n",
            " ['M']\n",
            " ['M']\n",
            " ['M']\n",
            " ['M']\n",
            " ['M']\n",
            " ['M']\n",
            " ['M']\n",
            " ['B']\n",
            " ['M']\n",
            " ['B']\n",
            " ['B']\n",
            " ['B']\n",
            " ['B']\n",
            " ['B']\n",
            " ['M']\n",
            " ['M']\n",
            " ['B']\n",
            " ['M']\n",
            " ['M']\n",
            " ['B']\n",
            " ['B']\n",
            " ['B']\n",
            " ['B']\n",
            " ['M']\n",
            " ['B']\n",
            " ['M']\n",
            " ['M']\n",
            " ['B']\n",
            " ['B']\n",
            " ['B']\n",
            " ['B']\n",
            " ['M']\n",
            " ['B']\n",
            " ['M']\n",
            " ['M']\n",
            " ['B']\n",
            " ['M']\n",
            " ['B']\n",
            " ['M']\n",
            " ['M']\n",
            " ['B']\n",
            " ['B']\n",
            " ['B']\n",
            " ['M']\n",
            " ['M']\n",
            " ['B']\n",
            " ['M']\n",
            " ['M']\n",
            " ['M']\n",
            " ['B']\n",
            " ['B']\n",
            " ['B']\n",
            " ['M']\n",
            " ['B']\n",
            " ['B']\n",
            " ['M']\n",
            " ['M']\n",
            " ['B']\n",
            " ['B']\n",
            " ['B']\n",
            " ['M']\n",
            " ['M']\n",
            " ['B']\n",
            " ['B']\n",
            " ['B']\n",
            " ['B']\n",
            " ['M']\n",
            " ['B']\n",
            " ['B']\n",
            " ['M']\n",
            " ['B']\n",
            " ['B']\n",
            " ['B']\n",
            " ['B']\n",
            " ['B']\n",
            " ['B']\n",
            " ['B']\n",
            " ['B']\n",
            " ['M']\n",
            " ['M']\n",
            " ['M']\n",
            " ['B']\n",
            " ['M']\n",
            " ['M']\n",
            " ['B']\n",
            " ['B']\n",
            " ['B']\n",
            " ['M']\n",
            " ['M']\n",
            " ['B']\n",
            " ['M']\n",
            " ['B']\n",
            " ['M']\n",
            " ['M']\n",
            " ['B']\n",
            " ['M']\n",
            " ['M']\n",
            " ['B']\n",
            " ['B']\n",
            " ['M']\n",
            " ['B']\n",
            " ['B']\n",
            " ['M']\n",
            " ['B']\n",
            " ['B']\n",
            " ['B']\n",
            " ['B']\n",
            " ['M']\n",
            " ['B']\n",
            " ['B']\n",
            " ['B']\n",
            " ['B']\n",
            " ['B']\n",
            " ['B']\n",
            " ['B']\n",
            " ['B']\n",
            " ['B']\n",
            " ['M']\n",
            " ['B']\n",
            " ['B']\n",
            " ['B']\n",
            " ['B']\n",
            " ['M']\n",
            " ['M']\n",
            " ['B']\n",
            " ['M']\n",
            " ['B']\n",
            " ['B']\n",
            " ['M']\n",
            " ['M']\n",
            " ['B']\n",
            " ['B']\n",
            " ['M']\n",
            " ['M']\n",
            " ['B']\n",
            " ['B']\n",
            " ['B']\n",
            " ['B']\n",
            " ['M']\n",
            " ['B']\n",
            " ['B']\n",
            " ['M']\n",
            " ['M']\n",
            " ['M']\n",
            " ['B']\n",
            " ['M']\n",
            " ['B']\n",
            " ['M']\n",
            " ['B']\n",
            " ['B']\n",
            " ['B']\n",
            " ['M']\n",
            " ['B']\n",
            " ['B']\n",
            " ['M']\n",
            " ['M']\n",
            " ['B']\n",
            " ['M']\n",
            " ['M']\n",
            " ['M']\n",
            " ['M']\n",
            " ['B']\n",
            " ['M']\n",
            " ['M']\n",
            " ['M']\n",
            " ['B']\n",
            " ['M']\n",
            " ['B']\n",
            " ['M']\n",
            " ['B']\n",
            " ['B']\n",
            " ['M']\n",
            " ['B']\n",
            " ['M']\n",
            " ['M']\n",
            " ['M']\n",
            " ['M']\n",
            " ['B']\n",
            " ['B']\n",
            " ['M']\n",
            " ['M']\n",
            " ['B']\n",
            " ['B']\n",
            " ['B']\n",
            " ['M']\n",
            " ['B']\n",
            " ['B']\n",
            " ['B']\n",
            " ['B']\n",
            " ['B']\n",
            " ['M']\n",
            " ['M']\n",
            " ['B']\n",
            " ['B']\n",
            " ['M']\n",
            " ['B']\n",
            " ['B']\n",
            " ['M']\n",
            " ['M']\n",
            " ['B']\n",
            " ['M']\n",
            " ['B']\n",
            " ['B']\n",
            " ['B']\n",
            " ['B']\n",
            " ['M']\n",
            " ['B']\n",
            " ['B']\n",
            " ['B']\n",
            " ['B']\n",
            " ['B']\n",
            " ['M']\n",
            " ['B']\n",
            " ['M']\n",
            " ['M']\n",
            " ['M']\n",
            " ['M']\n",
            " ['M']\n",
            " ['M']\n",
            " ['M']\n",
            " ['M']\n",
            " ['M']\n",
            " ['M']\n",
            " ['M']\n",
            " ['M']\n",
            " ['M']\n",
            " ['M']\n",
            " ['B']\n",
            " ['B']\n",
            " ['B']\n",
            " ['B']\n",
            " ['B']\n",
            " ['B']\n",
            " ['M']\n",
            " ['B']\n",
            " ['M']\n",
            " ['B']\n",
            " ['B']\n",
            " ['M']\n",
            " ['B']\n",
            " ['B']\n",
            " ['M']\n",
            " ['B']\n",
            " ['M']\n",
            " ['M']\n",
            " ['B']\n",
            " ['B']\n",
            " ['B']\n",
            " ['B']\n",
            " ['B']\n",
            " ['B']\n",
            " ['B']\n",
            " ['B']\n",
            " ['B']\n",
            " ['B']\n",
            " ['B']\n",
            " ['B']\n",
            " ['B']\n",
            " ['M']\n",
            " ['B']\n",
            " ['B']\n",
            " ['M']\n",
            " ['B']\n",
            " ['M']\n",
            " ['B']\n",
            " ['B']\n",
            " ['B']\n",
            " ['B']\n",
            " ['B']\n",
            " ['B']\n",
            " ['B']\n",
            " ['B']\n",
            " ['B']\n",
            " ['B']\n",
            " ['B']\n",
            " ['B']\n",
            " ['B']\n",
            " ['B']\n",
            " ['M']\n",
            " ['B']\n",
            " ['B']\n",
            " ['B']\n",
            " ['M']\n",
            " ['B']\n",
            " ['M']\n",
            " ['B']\n",
            " ['B']\n",
            " ['B']\n",
            " ['B']\n",
            " ['M']\n",
            " ['M']\n",
            " ['M']\n",
            " ['B']\n",
            " ['B']\n",
            " ['B']\n",
            " ['B']\n",
            " ['M']\n",
            " ['B']\n",
            " ['M']\n",
            " ['B']\n",
            " ['M']\n",
            " ['B']\n",
            " ['B']\n",
            " ['B']\n",
            " ['M']\n",
            " ['B']\n",
            " ['B']\n",
            " ['B']\n",
            " ['B']\n",
            " ['B']\n",
            " ['B']\n",
            " ['B']\n",
            " ['M']\n",
            " ['M']\n",
            " ['M']\n",
            " ['B']\n",
            " ['B']\n",
            " ['B']\n",
            " ['B']\n",
            " ['B']\n",
            " ['B']\n",
            " ['B']\n",
            " ['B']\n",
            " ['B']\n",
            " ['B']\n",
            " ['B']\n",
            " ['M']\n",
            " ['M']\n",
            " ['B']\n",
            " ['M']\n",
            " ['M']\n",
            " ['M']\n",
            " ['B']\n",
            " ['M']\n",
            " ['M']\n",
            " ['B']\n",
            " ['B']\n",
            " ['B']\n",
            " ['B']\n",
            " ['B']\n",
            " ['M']\n",
            " ['B']\n",
            " ['B']\n",
            " ['B']\n",
            " ['B']\n",
            " ['B']\n",
            " ['M']\n",
            " ['B']\n",
            " ['B']\n",
            " ['B']\n",
            " ['M']\n",
            " ['B']\n",
            " ['B']\n",
            " ['M']\n",
            " ['M']\n",
            " ['B']\n",
            " ['B']\n",
            " ['B']\n",
            " ['B']\n",
            " ['B']\n",
            " ['B']\n",
            " ['M']\n",
            " ['B']\n",
            " ['B']\n",
            " ['B']\n",
            " ['B']\n",
            " ['B']\n",
            " ['B']\n",
            " ['B']\n",
            " ['M']\n",
            " ['B']\n",
            " ['B']\n",
            " ['B']\n",
            " ['B']\n",
            " ['B']\n",
            " ['M']\n",
            " ['B']\n",
            " ['B']\n",
            " ['M']\n",
            " ['B']\n",
            " ['B']\n",
            " ['B']\n",
            " ['B']\n",
            " ['B']\n",
            " ['B']\n",
            " ['B']\n",
            " ['B']\n",
            " ['B']\n",
            " ['B']\n",
            " ['B']\n",
            " ['B']\n",
            " ['M']\n",
            " ['B']\n",
            " ['M']\n",
            " ['M']\n",
            " ['B']\n",
            " ['M']\n",
            " ['B']\n",
            " ['B']\n",
            " ['B']\n",
            " ['B']\n",
            " ['B']\n",
            " ['M']\n",
            " ['B']\n",
            " ['B']\n",
            " ['M']\n",
            " ['B']\n",
            " ['M']\n",
            " ['B']\n",
            " ['B']\n",
            " ['M']\n",
            " ['B']\n",
            " ['M']\n",
            " ['B']\n",
            " ['B']\n",
            " ['B']\n",
            " ['B']\n",
            " ['B']\n",
            " ['B']\n",
            " ['B']\n",
            " ['B']\n",
            " ['M']\n",
            " ['M']\n",
            " ['B']\n",
            " ['B']\n",
            " ['B']\n",
            " ['B']\n",
            " ['B']\n",
            " ['B']\n",
            " ['M']\n",
            " ['B']\n",
            " ['B']\n",
            " ['B']\n",
            " ['B']\n",
            " ['B']\n",
            " ['B']\n",
            " ['B']\n",
            " ['B']\n",
            " ['B']\n",
            " ['B']\n",
            " ['M']\n",
            " ['B']\n",
            " ['B']\n",
            " ['B']\n",
            " ['B']\n",
            " ['B']\n",
            " ['B']\n",
            " ['B']\n",
            " ['M']\n",
            " ['B']\n",
            " ['M']\n",
            " ['B']\n",
            " ['B']\n",
            " ['M']\n",
            " ['B']\n",
            " ['B']\n",
            " ['B']\n",
            " ['B']\n",
            " ['B']\n",
            " ['M']\n",
            " ['M']\n",
            " ['B']\n",
            " ['M']\n",
            " ['B']\n",
            " ['M']\n",
            " ['B']\n",
            " ['B']\n",
            " ['B']\n",
            " ['B']\n",
            " ['B']\n",
            " ['M']\n",
            " ['B']\n",
            " ['B']\n",
            " ['M']\n",
            " ['B']\n",
            " ['M']\n",
            " ['B']\n",
            " ['M']\n",
            " ['M']\n",
            " ['B']\n",
            " ['B']\n",
            " ['B']\n",
            " ['M']\n",
            " ['B']\n",
            " ['B']\n",
            " ['B']\n",
            " ['B']\n",
            " ['B']\n",
            " ['B']\n",
            " ['B']\n",
            " ['B']\n",
            " ['B']\n",
            " ['B']\n",
            " ['B']\n",
            " ['M']\n",
            " ['B']\n",
            " ['M']\n",
            " ['M']\n",
            " ['B']\n",
            " ['B']\n",
            " ['B']\n",
            " ['B']\n",
            " ['B']\n",
            " ['B']\n",
            " ['B']\n",
            " ['B']\n",
            " ['B']\n",
            " ['B']\n",
            " ['B']\n",
            " ['B']\n",
            " ['B']\n",
            " ['B']\n",
            " ['B']\n",
            " ['B']\n",
            " ['B']\n",
            " ['B']\n",
            " ['B']\n",
            " ['B']\n",
            " ['B']\n",
            " ['B']\n",
            " ['B']\n",
            " ['B']\n",
            " ['B']\n",
            " ['M']\n",
            " ['M']\n",
            " ['M']\n",
            " ['M']\n",
            " ['M']\n",
            " ['M']\n",
            " ['B']]\n"
          ],
          "name": "stdout"
        }
      ]
    },
    {
      "cell_type": "code",
      "metadata": {
        "colab": {
          "base_uri": "https://localhost:8080/"
        },
        "id": "pIpKU3x85Z5y",
        "outputId": "b7649f76-d0b1-4a2e-a8ca-51d853bbe3f1"
      },
      "source": [
        "target_names = df['diagnosis'].unique()\n",
        "print(target_names)"
      ],
      "execution_count": 15,
      "outputs": [
        {
          "output_type": "stream",
          "text": [
            "['M' 'B']\n"
          ],
          "name": "stdout"
        }
      ]
    },
    {
      "cell_type": "code",
      "metadata": {
        "colab": {
          "base_uri": "https://localhost:8080/"
        },
        "id": "Y_xTqq4V7q7J",
        "outputId": "6082211c-23b4-4e40-b1c7-9768ad14ace4"
      },
      "source": [
        "print(X.shape)\n",
        "print(Y.shape)"
      ],
      "execution_count": 16,
      "outputs": [
        {
          "output_type": "stream",
          "text": [
            "(569, 4)\n",
            "(569, 1)\n"
          ],
          "name": "stdout"
        }
      ]
    },
    {
      "cell_type": "code",
      "metadata": {
        "colab": {
          "base_uri": "https://localhost:8080/"
        },
        "id": "FLHeiyhI4VCT",
        "outputId": "8c42e532-651f-41f5-ddf4-93131a70ffa3"
      },
      "source": [
        "(trainX, testX, trainY, testY) = train_test_split(X, Y, random_state=3, test_size=0.2)\n",
        "print(trainX.shape)\n",
        "print(testX.shape)\n",
        "print(trainY.shape)\n",
        "print(testY.shape)"
      ],
      "execution_count": 17,
      "outputs": [
        {
          "output_type": "stream",
          "text": [
            "(455, 4)\n",
            "(114, 4)\n",
            "(455, 1)\n",
            "(114, 1)\n"
          ],
          "name": "stdout"
        }
      ]
    },
    {
      "cell_type": "code",
      "metadata": {
        "id": "l6vqEgqCgRJf"
      },
      "source": [
        "# define the dictionary of models our script can use, where the key\n",
        "# to the dictionary is the name of the model (supplied via command\n",
        "# line argument) and the value is the model itself\n",
        "models = {\n",
        "\t\"knn\": KNeighborsClassifier(n_neighbors=3),\n",
        "\t\"naive_bayes\": GaussianNB(),\n",
        "\t\"logit\": LogisticRegression(solver=\"lbfgs\", multi_class=\"auto\"),\n",
        "\t\"svm\": SVC(kernel=\"rbf\", gamma=\"auto\"),\n",
        "\t\"decision_tree\": DecisionTreeClassifier(),\n",
        "\t\"random_forest\": RandomForestClassifier(n_estimators=100),\n",
        "\t\"mlp\": MLPClassifier()\n",
        "}"
      ],
      "execution_count": 19,
      "outputs": []
    },
    {
      "cell_type": "code",
      "metadata": {
        "id": "UAmEPiyMgRJm",
        "colab": {
          "base_uri": "https://localhost:8080/"
        },
        "outputId": "00eb73d9-66f2-445f-ffe7-1607dc1951d0"
      },
      "source": [
        "# train the model\n",
        "print(\"[INFO] using '{}' model\".format(\"knn\"))\n",
        "model = models[\"knn\"]\n",
        "model.fit(trainX, trainY)"
      ],
      "execution_count": 20,
      "outputs": [
        {
          "output_type": "stream",
          "text": [
            "[INFO] using 'knn' model\n"
          ],
          "name": "stdout"
        },
        {
          "output_type": "stream",
          "text": [
            "/usr/local/lib/python3.7/dist-packages/ipykernel_launcher.py:4: DataConversionWarning: A column-vector y was passed when a 1d array was expected. Please change the shape of y to (n_samples, ), for example using ravel().\n",
            "  after removing the cwd from sys.path.\n"
          ],
          "name": "stderr"
        },
        {
          "output_type": "execute_result",
          "data": {
            "text/plain": [
              "KNeighborsClassifier(algorithm='auto', leaf_size=30, metric='minkowski',\n",
              "                     metric_params=None, n_jobs=None, n_neighbors=3, p=2,\n",
              "                     weights='uniform')"
            ]
          },
          "metadata": {
            "tags": []
          },
          "execution_count": 20
        }
      ]
    },
    {
      "cell_type": "code",
      "metadata": {
        "id": "pMst7JNbgRJo",
        "colab": {
          "base_uri": "https://localhost:8080/"
        },
        "outputId": "8d047ea6-8426-4a73-867f-974b9bac587f"
      },
      "source": [
        "# make predictions on our data and show a classification report\n",
        "print(\"[INFO] evaluating...\")\n",
        "predictions = model.predict(testX)\n",
        "print(predictions)"
      ],
      "execution_count": 21,
      "outputs": [
        {
          "output_type": "stream",
          "text": [
            "[INFO] evaluating...\n",
            "['B' 'B' 'B' 'B' 'M' 'B' 'B' 'B' 'B' 'B' 'B' 'M' 'B' 'M' 'B' 'B' 'B' 'B'\n",
            " 'M' 'B' 'B' 'B' 'B' 'M' 'B' 'B' 'B' 'M' 'M' 'M' 'M' 'B' 'B' 'B' 'B' 'B'\n",
            " 'B' 'B' 'M' 'M' 'M' 'B' 'M' 'M' 'B' 'B' 'M' 'B' 'B' 'B' 'M' 'B' 'B' 'M'\n",
            " 'M' 'B' 'B' 'M' 'B' 'B' 'B' 'B' 'M' 'B' 'B' 'B' 'M' 'B' 'M' 'B' 'M' 'B'\n",
            " 'M' 'M' 'B' 'M' 'B' 'M' 'B' 'M' 'M' 'B' 'B' 'B' 'B' 'M' 'B' 'B' 'B' 'B'\n",
            " 'M' 'M' 'M' 'B' 'B' 'B' 'B' 'M' 'B' 'B' 'B' 'B' 'B' 'B' 'B' 'M' 'M' 'B'\n",
            " 'M' 'B' 'B' 'M' 'B' 'B']\n"
          ],
          "name": "stdout"
        }
      ]
    },
    {
      "cell_type": "code",
      "metadata": {
        "colab": {
          "base_uri": "https://localhost:8080/"
        },
        "id": "Puym9l3iF4LO",
        "outputId": "9b0e3303-a1e8-4faf-f681-460a01f1c547"
      },
      "source": [
        "print(classification_report(testY, predictions,\n",
        "\ttarget_names=target_names))"
      ],
      "execution_count": 22,
      "outputs": [
        {
          "output_type": "stream",
          "text": [
            "              precision    recall  f1-score   support\n",
            "\n",
            "           M       0.89      0.92      0.91        74\n",
            "           B       0.84      0.80      0.82        40\n",
            "\n",
            "    accuracy                           0.88       114\n",
            "   macro avg       0.87      0.86      0.86       114\n",
            "weighted avg       0.88      0.88      0.88       114\n",
            "\n"
          ],
          "name": "stdout"
        }
      ]
    },
    {
      "cell_type": "code",
      "metadata": {
        "id": "KaVoaNHOgRJu",
        "colab": {
          "base_uri": "https://localhost:8080/"
        },
        "outputId": "619c7357-ceb8-40c3-8a00-3a427ade71f5"
      },
      "source": [
        "# train the model\n",
        "print(\"[INFO] using '{}' model\".format(\"naive_bayes\"))\n",
        "model = models[\"naive_bayes\"]\n",
        "model.fit(trainX, trainY)"
      ],
      "execution_count": 23,
      "outputs": [
        {
          "output_type": "stream",
          "text": [
            "[INFO] using 'naive_bayes' model\n"
          ],
          "name": "stdout"
        },
        {
          "output_type": "stream",
          "text": [
            "/usr/local/lib/python3.7/dist-packages/sklearn/naive_bayes.py:206: DataConversionWarning: A column-vector y was passed when a 1d array was expected. Please change the shape of y to (n_samples, ), for example using ravel().\n",
            "  y = column_or_1d(y, warn=True)\n"
          ],
          "name": "stderr"
        },
        {
          "output_type": "execute_result",
          "data": {
            "text/plain": [
              "GaussianNB(priors=None, var_smoothing=1e-09)"
            ]
          },
          "metadata": {
            "tags": []
          },
          "execution_count": 23
        }
      ]
    },
    {
      "cell_type": "code",
      "metadata": {
        "id": "mcB3GEAGgRJw",
        "colab": {
          "base_uri": "https://localhost:8080/"
        },
        "outputId": "a124aab5-1aea-4776-97ed-c0c20805d758"
      },
      "source": [
        "# make predictions on our data and show a classification report\n",
        "print(\"[INFO] evaluating...\")\n",
        "predictions = model.predict(testX)\n",
        "print(classification_report(testY, predictions,\n",
        "\ttarget_names=target_names))"
      ],
      "execution_count": 24,
      "outputs": [
        {
          "output_type": "stream",
          "text": [
            "[INFO] evaluating...\n",
            "              precision    recall  f1-score   support\n",
            "\n",
            "           M       0.89      0.96      0.92        74\n",
            "           B       0.91      0.78      0.84        40\n",
            "\n",
            "    accuracy                           0.89       114\n",
            "   macro avg       0.90      0.87      0.88       114\n",
            "weighted avg       0.90      0.89      0.89       114\n",
            "\n"
          ],
          "name": "stdout"
        }
      ]
    },
    {
      "cell_type": "code",
      "metadata": {
        "id": "Ag3ekIj7gRJx",
        "colab": {
          "base_uri": "https://localhost:8080/"
        },
        "outputId": "1ed953c1-c830-4059-f6c1-6b0f96f9b28c"
      },
      "source": [
        "# train the model\n",
        "print(\"[INFO] using '{}' model\".format(\"logit\"))\n",
        "model = models[\"logit\"]\n",
        "model.fit(trainX, trainY)"
      ],
      "execution_count": 25,
      "outputs": [
        {
          "output_type": "stream",
          "text": [
            "[INFO] using 'logit' model\n"
          ],
          "name": "stdout"
        },
        {
          "output_type": "stream",
          "text": [
            "/usr/local/lib/python3.7/dist-packages/sklearn/utils/validation.py:760: DataConversionWarning: A column-vector y was passed when a 1d array was expected. Please change the shape of y to (n_samples, ), for example using ravel().\n",
            "  y = column_or_1d(y, warn=True)\n"
          ],
          "name": "stderr"
        },
        {
          "output_type": "execute_result",
          "data": {
            "text/plain": [
              "LogisticRegression(C=1.0, class_weight=None, dual=False, fit_intercept=True,\n",
              "                   intercept_scaling=1, l1_ratio=None, max_iter=100,\n",
              "                   multi_class='auto', n_jobs=None, penalty='l2',\n",
              "                   random_state=None, solver='lbfgs', tol=0.0001, verbose=0,\n",
              "                   warm_start=False)"
            ]
          },
          "metadata": {
            "tags": []
          },
          "execution_count": 25
        }
      ]
    },
    {
      "cell_type": "code",
      "metadata": {
        "id": "MZ_5q-Y6gRJz",
        "colab": {
          "base_uri": "https://localhost:8080/"
        },
        "outputId": "9f72fde4-ef1b-41db-da86-e156c42691cd"
      },
      "source": [
        "# make predictions on our data and show a classification report\n",
        "print(\"[INFO] evaluating...\")\n",
        "predictions = model.predict(testX)\n",
        "print(classification_report(testY, predictions,\n",
        "\ttarget_names=target_names))"
      ],
      "execution_count": 26,
      "outputs": [
        {
          "output_type": "stream",
          "text": [
            "[INFO] evaluating...\n",
            "              precision    recall  f1-score   support\n",
            "\n",
            "           M       0.93      0.93      0.93        74\n",
            "           B       0.88      0.88      0.88        40\n",
            "\n",
            "    accuracy                           0.91       114\n",
            "   macro avg       0.90      0.90      0.90       114\n",
            "weighted avg       0.91      0.91      0.91       114\n",
            "\n"
          ],
          "name": "stdout"
        }
      ]
    },
    {
      "cell_type": "code",
      "metadata": {
        "id": "YpMbga3dgRJz",
        "colab": {
          "base_uri": "https://localhost:8080/"
        },
        "outputId": "2e0b4849-7390-4d0a-b209-f87afd8ea9c8"
      },
      "source": [
        "# train the model\n",
        "print(\"[INFO] using '{}' model\".format(\"svm\"))\n",
        "model = models[\"svm\"]\n",
        "model.fit(trainX, trainY)"
      ],
      "execution_count": 27,
      "outputs": [
        {
          "output_type": "stream",
          "text": [
            "[INFO] using 'svm' model\n"
          ],
          "name": "stdout"
        },
        {
          "output_type": "stream",
          "text": [
            "/usr/local/lib/python3.7/dist-packages/sklearn/utils/validation.py:760: DataConversionWarning: A column-vector y was passed when a 1d array was expected. Please change the shape of y to (n_samples, ), for example using ravel().\n",
            "  y = column_or_1d(y, warn=True)\n"
          ],
          "name": "stderr"
        },
        {
          "output_type": "execute_result",
          "data": {
            "text/plain": [
              "SVC(C=1.0, break_ties=False, cache_size=200, class_weight=None, coef0=0.0,\n",
              "    decision_function_shape='ovr', degree=3, gamma='auto', kernel='rbf',\n",
              "    max_iter=-1, probability=False, random_state=None, shrinking=True,\n",
              "    tol=0.001, verbose=False)"
            ]
          },
          "metadata": {
            "tags": []
          },
          "execution_count": 27
        }
      ]
    },
    {
      "cell_type": "code",
      "metadata": {
        "id": "Ouv_k7vsgRJ0",
        "colab": {
          "base_uri": "https://localhost:8080/"
        },
        "outputId": "d1324dec-1626-4c14-e3a4-770148701acd"
      },
      "source": [
        "# make predictions on our data and show a classification report\n",
        "print(\"[INFO] evaluating...\")\n",
        "predictions = model.predict(testX)\n",
        "print(classification_report(testY, predictions,\n",
        "\ttarget_names=target_names))"
      ],
      "execution_count": 28,
      "outputs": [
        {
          "output_type": "stream",
          "text": [
            "[INFO] evaluating...\n",
            "              precision    recall  f1-score   support\n",
            "\n",
            "           M       0.66      1.00      0.80        74\n",
            "           B       1.00      0.05      0.10        40\n",
            "\n",
            "    accuracy                           0.67       114\n",
            "   macro avg       0.83      0.53      0.45       114\n",
            "weighted avg       0.78      0.67      0.55       114\n",
            "\n"
          ],
          "name": "stdout"
        }
      ]
    },
    {
      "cell_type": "code",
      "metadata": {
        "id": "hl-fW3p9gRJ2",
        "colab": {
          "base_uri": "https://localhost:8080/"
        },
        "outputId": "03706e94-81fd-47d0-f07e-6bb80f71b6ca"
      },
      "source": [
        "# train the model\n",
        "print(\"[INFO] using '{}' model\".format(\"decision_tree\"))\n",
        "model = models[\"decision_tree\"]\n",
        "model.fit(trainX, trainY)"
      ],
      "execution_count": 29,
      "outputs": [
        {
          "output_type": "stream",
          "text": [
            "[INFO] using 'decision_tree' model\n"
          ],
          "name": "stdout"
        },
        {
          "output_type": "execute_result",
          "data": {
            "text/plain": [
              "DecisionTreeClassifier(ccp_alpha=0.0, class_weight=None, criterion='gini',\n",
              "                       max_depth=None, max_features=None, max_leaf_nodes=None,\n",
              "                       min_impurity_decrease=0.0, min_impurity_split=None,\n",
              "                       min_samples_leaf=1, min_samples_split=2,\n",
              "                       min_weight_fraction_leaf=0.0, presort='deprecated',\n",
              "                       random_state=None, splitter='best')"
            ]
          },
          "metadata": {
            "tags": []
          },
          "execution_count": 29
        }
      ]
    },
    {
      "cell_type": "code",
      "metadata": {
        "id": "SM2l7Dl4gRJ4",
        "colab": {
          "base_uri": "https://localhost:8080/"
        },
        "outputId": "ecf12969-1e32-454a-cf99-153da16543a6"
      },
      "source": [
        "# make predictions on our data and show a classification report\n",
        "print(\"[INFO] evaluating...\")\n",
        "predictions = model.predict(testX)\n",
        "print(classification_report(testY, predictions,\n",
        "\ttarget_names=target_names))"
      ],
      "execution_count": 30,
      "outputs": [
        {
          "output_type": "stream",
          "text": [
            "[INFO] evaluating...\n",
            "              precision    recall  f1-score   support\n",
            "\n",
            "           M       0.92      0.92      0.92        74\n",
            "           B       0.85      0.85      0.85        40\n",
            "\n",
            "    accuracy                           0.89       114\n",
            "   macro avg       0.88      0.88      0.88       114\n",
            "weighted avg       0.89      0.89      0.89       114\n",
            "\n"
          ],
          "name": "stdout"
        }
      ]
    },
    {
      "cell_type": "code",
      "metadata": {
        "id": "l1Qtpf0UgRJ5",
        "colab": {
          "base_uri": "https://localhost:8080/"
        },
        "outputId": "acc53965-a569-4c3d-9349-5b6d87952918"
      },
      "source": [
        "# train the model\n",
        "print(\"[INFO] using '{}' model\".format(\"random_forest\"))\n",
        "model = models[\"random_forest\"]\n",
        "model.fit(trainX, trainY)"
      ],
      "execution_count": 31,
      "outputs": [
        {
          "output_type": "stream",
          "text": [
            "[INFO] using 'random_forest' model\n"
          ],
          "name": "stdout"
        },
        {
          "output_type": "stream",
          "text": [
            "/usr/local/lib/python3.7/dist-packages/ipykernel_launcher.py:4: DataConversionWarning: A column-vector y was passed when a 1d array was expected. Please change the shape of y to (n_samples,), for example using ravel().\n",
            "  after removing the cwd from sys.path.\n"
          ],
          "name": "stderr"
        },
        {
          "output_type": "execute_result",
          "data": {
            "text/plain": [
              "RandomForestClassifier(bootstrap=True, ccp_alpha=0.0, class_weight=None,\n",
              "                       criterion='gini', max_depth=None, max_features='auto',\n",
              "                       max_leaf_nodes=None, max_samples=None,\n",
              "                       min_impurity_decrease=0.0, min_impurity_split=None,\n",
              "                       min_samples_leaf=1, min_samples_split=2,\n",
              "                       min_weight_fraction_leaf=0.0, n_estimators=100,\n",
              "                       n_jobs=None, oob_score=False, random_state=None,\n",
              "                       verbose=0, warm_start=False)"
            ]
          },
          "metadata": {
            "tags": []
          },
          "execution_count": 31
        }
      ]
    },
    {
      "cell_type": "code",
      "metadata": {
        "id": "fohWRtxcgRKA",
        "colab": {
          "base_uri": "https://localhost:8080/"
        },
        "outputId": "e2bd6449-2825-4098-d42a-fb18caec8a65"
      },
      "source": [
        "# make predictions on our data and show a classification report\n",
        "print(\"[INFO] evaluating...\")\n",
        "predictions = model.predict(testX)\n",
        "print(classification_report(testY, predictions,\n",
        "\ttarget_names=target_names))"
      ],
      "execution_count": 32,
      "outputs": [
        {
          "output_type": "stream",
          "text": [
            "[INFO] evaluating...\n",
            "              precision    recall  f1-score   support\n",
            "\n",
            "           M       0.91      0.95      0.93        74\n",
            "           B       0.89      0.82      0.86        40\n",
            "\n",
            "    accuracy                           0.90       114\n",
            "   macro avg       0.90      0.89      0.89       114\n",
            "weighted avg       0.90      0.90      0.90       114\n",
            "\n"
          ],
          "name": "stdout"
        }
      ]
    },
    {
      "cell_type": "code",
      "metadata": {
        "id": "QNdRh3_8gRKB",
        "colab": {
          "base_uri": "https://localhost:8080/"
        },
        "outputId": "ae4f76d5-a81c-4d7f-8cfb-a30e53756379"
      },
      "source": [
        "# train the model\n",
        "print(\"[INFO] using '{}' model\".format(\"mlp\"))\n",
        "model = models[\"mlp\"]\n",
        "model.fit(trainX, trainY)"
      ],
      "execution_count": 33,
      "outputs": [
        {
          "output_type": "stream",
          "text": [
            "[INFO] using 'mlp' model\n"
          ],
          "name": "stdout"
        },
        {
          "output_type": "stream",
          "text": [
            "/usr/local/lib/python3.7/dist-packages/sklearn/neural_network/_multilayer_perceptron.py:934: DataConversionWarning: A column-vector y was passed when a 1d array was expected. Please change the shape of y to (n_samples, ), for example using ravel().\n",
            "  y = column_or_1d(y, warn=True)\n"
          ],
          "name": "stderr"
        },
        {
          "output_type": "execute_result",
          "data": {
            "text/plain": [
              "MLPClassifier(activation='relu', alpha=0.0001, batch_size='auto', beta_1=0.9,\n",
              "              beta_2=0.999, early_stopping=False, epsilon=1e-08,\n",
              "              hidden_layer_sizes=(100,), learning_rate='constant',\n",
              "              learning_rate_init=0.001, max_fun=15000, max_iter=200,\n",
              "              momentum=0.9, n_iter_no_change=10, nesterovs_momentum=True,\n",
              "              power_t=0.5, random_state=None, shuffle=True, solver='adam',\n",
              "              tol=0.0001, validation_fraction=0.1, verbose=False,\n",
              "              warm_start=False)"
            ]
          },
          "metadata": {
            "tags": []
          },
          "execution_count": 33
        }
      ]
    },
    {
      "cell_type": "code",
      "metadata": {
        "id": "dtSKouEIgRKC",
        "colab": {
          "base_uri": "https://localhost:8080/"
        },
        "outputId": "725144ed-86ab-4b3f-e9e4-16ea83d3a6cb"
      },
      "source": [
        "# make predictions on our data and show a classification report\n",
        "print(\"[INFO] evaluating...\")\n",
        "predictions = model.predict(testX)\n",
        "print(classification_report(testY, predictions,\n",
        "\ttarget_names=target_names))"
      ],
      "execution_count": 34,
      "outputs": [
        {
          "output_type": "stream",
          "text": [
            "[INFO] evaluating...\n",
            "              precision    recall  f1-score   support\n",
            "\n",
            "           M       0.89      0.95      0.92        74\n",
            "           B       0.89      0.78      0.83        40\n",
            "\n",
            "    accuracy                           0.89       114\n",
            "   macro avg       0.89      0.86      0.87       114\n",
            "weighted avg       0.89      0.89      0.88       114\n",
            "\n"
          ],
          "name": "stdout"
        }
      ]
    },
    {
      "cell_type": "markdown",
      "metadata": {
        "id": "ExhmHl7Q5t7_"
      },
      "source": [
        "# **Artificial Neural Network**"
      ]
    },
    {
      "cell_type": "code",
      "metadata": {
        "id": "Eu7aptJJgRKE"
      },
      "source": [
        "# import the necessary packages\n",
        "from keras.models import Sequential\n",
        "# from keras.layers.convolutional import Conv2D\n",
        "# from keras.layers.convolutional import MaxPooling2D\n",
        "from keras.layers.core import Activation\n",
        "# from keras.layers.core import Flatten\n",
        "from keras.layers.core import Dense\n",
        "from keras.optimizers import Adam\n",
        "from sklearn.preprocessing import LabelBinarizer\n",
        "# from sklearn.model_selection import train_test_split\n",
        "# from sklearn.metrics import classification_report\n",
        "# from PIL import Image\n",
        "# from imutils import paths\n",
        "# import numpy as np\n",
        "# import os"
      ],
      "execution_count": 35,
      "outputs": []
    },
    {
      "cell_type": "code",
      "metadata": {
        "id": "SH24XaG3AnPu",
        "colab": {
          "base_uri": "https://localhost:8080/"
        },
        "outputId": "192a6278-5b90-4840-b14b-295685ee20c4"
      },
      "source": [
        "Y"
      ],
      "execution_count": 36,
      "outputs": [
        {
          "output_type": "execute_result",
          "data": {
            "text/plain": [
              "array([['M'],\n",
              "       ['M'],\n",
              "       ['M'],\n",
              "       ['M'],\n",
              "       ['M'],\n",
              "       ['M'],\n",
              "       ['M'],\n",
              "       ['M'],\n",
              "       ['M'],\n",
              "       ['M'],\n",
              "       ['M'],\n",
              "       ['M'],\n",
              "       ['M'],\n",
              "       ['M'],\n",
              "       ['M'],\n",
              "       ['M'],\n",
              "       ['M'],\n",
              "       ['M'],\n",
              "       ['M'],\n",
              "       ['B'],\n",
              "       ['B'],\n",
              "       ['B'],\n",
              "       ['M'],\n",
              "       ['M'],\n",
              "       ['M'],\n",
              "       ['M'],\n",
              "       ['M'],\n",
              "       ['M'],\n",
              "       ['M'],\n",
              "       ['M'],\n",
              "       ['M'],\n",
              "       ['M'],\n",
              "       ['M'],\n",
              "       ['M'],\n",
              "       ['M'],\n",
              "       ['M'],\n",
              "       ['M'],\n",
              "       ['B'],\n",
              "       ['M'],\n",
              "       ['M'],\n",
              "       ['M'],\n",
              "       ['M'],\n",
              "       ['M'],\n",
              "       ['M'],\n",
              "       ['M'],\n",
              "       ['M'],\n",
              "       ['B'],\n",
              "       ['M'],\n",
              "       ['B'],\n",
              "       ['B'],\n",
              "       ['B'],\n",
              "       ['B'],\n",
              "       ['B'],\n",
              "       ['M'],\n",
              "       ['M'],\n",
              "       ['B'],\n",
              "       ['M'],\n",
              "       ['M'],\n",
              "       ['B'],\n",
              "       ['B'],\n",
              "       ['B'],\n",
              "       ['B'],\n",
              "       ['M'],\n",
              "       ['B'],\n",
              "       ['M'],\n",
              "       ['M'],\n",
              "       ['B'],\n",
              "       ['B'],\n",
              "       ['B'],\n",
              "       ['B'],\n",
              "       ['M'],\n",
              "       ['B'],\n",
              "       ['M'],\n",
              "       ['M'],\n",
              "       ['B'],\n",
              "       ['M'],\n",
              "       ['B'],\n",
              "       ['M'],\n",
              "       ['M'],\n",
              "       ['B'],\n",
              "       ['B'],\n",
              "       ['B'],\n",
              "       ['M'],\n",
              "       ['M'],\n",
              "       ['B'],\n",
              "       ['M'],\n",
              "       ['M'],\n",
              "       ['M'],\n",
              "       ['B'],\n",
              "       ['B'],\n",
              "       ['B'],\n",
              "       ['M'],\n",
              "       ['B'],\n",
              "       ['B'],\n",
              "       ['M'],\n",
              "       ['M'],\n",
              "       ['B'],\n",
              "       ['B'],\n",
              "       ['B'],\n",
              "       ['M'],\n",
              "       ['M'],\n",
              "       ['B'],\n",
              "       ['B'],\n",
              "       ['B'],\n",
              "       ['B'],\n",
              "       ['M'],\n",
              "       ['B'],\n",
              "       ['B'],\n",
              "       ['M'],\n",
              "       ['B'],\n",
              "       ['B'],\n",
              "       ['B'],\n",
              "       ['B'],\n",
              "       ['B'],\n",
              "       ['B'],\n",
              "       ['B'],\n",
              "       ['B'],\n",
              "       ['M'],\n",
              "       ['M'],\n",
              "       ['M'],\n",
              "       ['B'],\n",
              "       ['M'],\n",
              "       ['M'],\n",
              "       ['B'],\n",
              "       ['B'],\n",
              "       ['B'],\n",
              "       ['M'],\n",
              "       ['M'],\n",
              "       ['B'],\n",
              "       ['M'],\n",
              "       ['B'],\n",
              "       ['M'],\n",
              "       ['M'],\n",
              "       ['B'],\n",
              "       ['M'],\n",
              "       ['M'],\n",
              "       ['B'],\n",
              "       ['B'],\n",
              "       ['M'],\n",
              "       ['B'],\n",
              "       ['B'],\n",
              "       ['M'],\n",
              "       ['B'],\n",
              "       ['B'],\n",
              "       ['B'],\n",
              "       ['B'],\n",
              "       ['M'],\n",
              "       ['B'],\n",
              "       ['B'],\n",
              "       ['B'],\n",
              "       ['B'],\n",
              "       ['B'],\n",
              "       ['B'],\n",
              "       ['B'],\n",
              "       ['B'],\n",
              "       ['B'],\n",
              "       ['M'],\n",
              "       ['B'],\n",
              "       ['B'],\n",
              "       ['B'],\n",
              "       ['B'],\n",
              "       ['M'],\n",
              "       ['M'],\n",
              "       ['B'],\n",
              "       ['M'],\n",
              "       ['B'],\n",
              "       ['B'],\n",
              "       ['M'],\n",
              "       ['M'],\n",
              "       ['B'],\n",
              "       ['B'],\n",
              "       ['M'],\n",
              "       ['M'],\n",
              "       ['B'],\n",
              "       ['B'],\n",
              "       ['B'],\n",
              "       ['B'],\n",
              "       ['M'],\n",
              "       ['B'],\n",
              "       ['B'],\n",
              "       ['M'],\n",
              "       ['M'],\n",
              "       ['M'],\n",
              "       ['B'],\n",
              "       ['M'],\n",
              "       ['B'],\n",
              "       ['M'],\n",
              "       ['B'],\n",
              "       ['B'],\n",
              "       ['B'],\n",
              "       ['M'],\n",
              "       ['B'],\n",
              "       ['B'],\n",
              "       ['M'],\n",
              "       ['M'],\n",
              "       ['B'],\n",
              "       ['M'],\n",
              "       ['M'],\n",
              "       ['M'],\n",
              "       ['M'],\n",
              "       ['B'],\n",
              "       ['M'],\n",
              "       ['M'],\n",
              "       ['M'],\n",
              "       ['B'],\n",
              "       ['M'],\n",
              "       ['B'],\n",
              "       ['M'],\n",
              "       ['B'],\n",
              "       ['B'],\n",
              "       ['M'],\n",
              "       ['B'],\n",
              "       ['M'],\n",
              "       ['M'],\n",
              "       ['M'],\n",
              "       ['M'],\n",
              "       ['B'],\n",
              "       ['B'],\n",
              "       ['M'],\n",
              "       ['M'],\n",
              "       ['B'],\n",
              "       ['B'],\n",
              "       ['B'],\n",
              "       ['M'],\n",
              "       ['B'],\n",
              "       ['B'],\n",
              "       ['B'],\n",
              "       ['B'],\n",
              "       ['B'],\n",
              "       ['M'],\n",
              "       ['M'],\n",
              "       ['B'],\n",
              "       ['B'],\n",
              "       ['M'],\n",
              "       ['B'],\n",
              "       ['B'],\n",
              "       ['M'],\n",
              "       ['M'],\n",
              "       ['B'],\n",
              "       ['M'],\n",
              "       ['B'],\n",
              "       ['B'],\n",
              "       ['B'],\n",
              "       ['B'],\n",
              "       ['M'],\n",
              "       ['B'],\n",
              "       ['B'],\n",
              "       ['B'],\n",
              "       ['B'],\n",
              "       ['B'],\n",
              "       ['M'],\n",
              "       ['B'],\n",
              "       ['M'],\n",
              "       ['M'],\n",
              "       ['M'],\n",
              "       ['M'],\n",
              "       ['M'],\n",
              "       ['M'],\n",
              "       ['M'],\n",
              "       ['M'],\n",
              "       ['M'],\n",
              "       ['M'],\n",
              "       ['M'],\n",
              "       ['M'],\n",
              "       ['M'],\n",
              "       ['M'],\n",
              "       ['B'],\n",
              "       ['B'],\n",
              "       ['B'],\n",
              "       ['B'],\n",
              "       ['B'],\n",
              "       ['B'],\n",
              "       ['M'],\n",
              "       ['B'],\n",
              "       ['M'],\n",
              "       ['B'],\n",
              "       ['B'],\n",
              "       ['M'],\n",
              "       ['B'],\n",
              "       ['B'],\n",
              "       ['M'],\n",
              "       ['B'],\n",
              "       ['M'],\n",
              "       ['M'],\n",
              "       ['B'],\n",
              "       ['B'],\n",
              "       ['B'],\n",
              "       ['B'],\n",
              "       ['B'],\n",
              "       ['B'],\n",
              "       ['B'],\n",
              "       ['B'],\n",
              "       ['B'],\n",
              "       ['B'],\n",
              "       ['B'],\n",
              "       ['B'],\n",
              "       ['B'],\n",
              "       ['M'],\n",
              "       ['B'],\n",
              "       ['B'],\n",
              "       ['M'],\n",
              "       ['B'],\n",
              "       ['M'],\n",
              "       ['B'],\n",
              "       ['B'],\n",
              "       ['B'],\n",
              "       ['B'],\n",
              "       ['B'],\n",
              "       ['B'],\n",
              "       ['B'],\n",
              "       ['B'],\n",
              "       ['B'],\n",
              "       ['B'],\n",
              "       ['B'],\n",
              "       ['B'],\n",
              "       ['B'],\n",
              "       ['B'],\n",
              "       ['M'],\n",
              "       ['B'],\n",
              "       ['B'],\n",
              "       ['B'],\n",
              "       ['M'],\n",
              "       ['B'],\n",
              "       ['M'],\n",
              "       ['B'],\n",
              "       ['B'],\n",
              "       ['B'],\n",
              "       ['B'],\n",
              "       ['M'],\n",
              "       ['M'],\n",
              "       ['M'],\n",
              "       ['B'],\n",
              "       ['B'],\n",
              "       ['B'],\n",
              "       ['B'],\n",
              "       ['M'],\n",
              "       ['B'],\n",
              "       ['M'],\n",
              "       ['B'],\n",
              "       ['M'],\n",
              "       ['B'],\n",
              "       ['B'],\n",
              "       ['B'],\n",
              "       ['M'],\n",
              "       ['B'],\n",
              "       ['B'],\n",
              "       ['B'],\n",
              "       ['B'],\n",
              "       ['B'],\n",
              "       ['B'],\n",
              "       ['B'],\n",
              "       ['M'],\n",
              "       ['M'],\n",
              "       ['M'],\n",
              "       ['B'],\n",
              "       ['B'],\n",
              "       ['B'],\n",
              "       ['B'],\n",
              "       ['B'],\n",
              "       ['B'],\n",
              "       ['B'],\n",
              "       ['B'],\n",
              "       ['B'],\n",
              "       ['B'],\n",
              "       ['B'],\n",
              "       ['M'],\n",
              "       ['M'],\n",
              "       ['B'],\n",
              "       ['M'],\n",
              "       ['M'],\n",
              "       ['M'],\n",
              "       ['B'],\n",
              "       ['M'],\n",
              "       ['M'],\n",
              "       ['B'],\n",
              "       ['B'],\n",
              "       ['B'],\n",
              "       ['B'],\n",
              "       ['B'],\n",
              "       ['M'],\n",
              "       ['B'],\n",
              "       ['B'],\n",
              "       ['B'],\n",
              "       ['B'],\n",
              "       ['B'],\n",
              "       ['M'],\n",
              "       ['B'],\n",
              "       ['B'],\n",
              "       ['B'],\n",
              "       ['M'],\n",
              "       ['B'],\n",
              "       ['B'],\n",
              "       ['M'],\n",
              "       ['M'],\n",
              "       ['B'],\n",
              "       ['B'],\n",
              "       ['B'],\n",
              "       ['B'],\n",
              "       ['B'],\n",
              "       ['B'],\n",
              "       ['M'],\n",
              "       ['B'],\n",
              "       ['B'],\n",
              "       ['B'],\n",
              "       ['B'],\n",
              "       ['B'],\n",
              "       ['B'],\n",
              "       ['B'],\n",
              "       ['M'],\n",
              "       ['B'],\n",
              "       ['B'],\n",
              "       ['B'],\n",
              "       ['B'],\n",
              "       ['B'],\n",
              "       ['M'],\n",
              "       ['B'],\n",
              "       ['B'],\n",
              "       ['M'],\n",
              "       ['B'],\n",
              "       ['B'],\n",
              "       ['B'],\n",
              "       ['B'],\n",
              "       ['B'],\n",
              "       ['B'],\n",
              "       ['B'],\n",
              "       ['B'],\n",
              "       ['B'],\n",
              "       ['B'],\n",
              "       ['B'],\n",
              "       ['B'],\n",
              "       ['M'],\n",
              "       ['B'],\n",
              "       ['M'],\n",
              "       ['M'],\n",
              "       ['B'],\n",
              "       ['M'],\n",
              "       ['B'],\n",
              "       ['B'],\n",
              "       ['B'],\n",
              "       ['B'],\n",
              "       ['B'],\n",
              "       ['M'],\n",
              "       ['B'],\n",
              "       ['B'],\n",
              "       ['M'],\n",
              "       ['B'],\n",
              "       ['M'],\n",
              "       ['B'],\n",
              "       ['B'],\n",
              "       ['M'],\n",
              "       ['B'],\n",
              "       ['M'],\n",
              "       ['B'],\n",
              "       ['B'],\n",
              "       ['B'],\n",
              "       ['B'],\n",
              "       ['B'],\n",
              "       ['B'],\n",
              "       ['B'],\n",
              "       ['B'],\n",
              "       ['M'],\n",
              "       ['M'],\n",
              "       ['B'],\n",
              "       ['B'],\n",
              "       ['B'],\n",
              "       ['B'],\n",
              "       ['B'],\n",
              "       ['B'],\n",
              "       ['M'],\n",
              "       ['B'],\n",
              "       ['B'],\n",
              "       ['B'],\n",
              "       ['B'],\n",
              "       ['B'],\n",
              "       ['B'],\n",
              "       ['B'],\n",
              "       ['B'],\n",
              "       ['B'],\n",
              "       ['B'],\n",
              "       ['M'],\n",
              "       ['B'],\n",
              "       ['B'],\n",
              "       ['B'],\n",
              "       ['B'],\n",
              "       ['B'],\n",
              "       ['B'],\n",
              "       ['B'],\n",
              "       ['M'],\n",
              "       ['B'],\n",
              "       ['M'],\n",
              "       ['B'],\n",
              "       ['B'],\n",
              "       ['M'],\n",
              "       ['B'],\n",
              "       ['B'],\n",
              "       ['B'],\n",
              "       ['B'],\n",
              "       ['B'],\n",
              "       ['M'],\n",
              "       ['M'],\n",
              "       ['B'],\n",
              "       ['M'],\n",
              "       ['B'],\n",
              "       ['M'],\n",
              "       ['B'],\n",
              "       ['B'],\n",
              "       ['B'],\n",
              "       ['B'],\n",
              "       ['B'],\n",
              "       ['M'],\n",
              "       ['B'],\n",
              "       ['B'],\n",
              "       ['M'],\n",
              "       ['B'],\n",
              "       ['M'],\n",
              "       ['B'],\n",
              "       ['M'],\n",
              "       ['M'],\n",
              "       ['B'],\n",
              "       ['B'],\n",
              "       ['B'],\n",
              "       ['M'],\n",
              "       ['B'],\n",
              "       ['B'],\n",
              "       ['B'],\n",
              "       ['B'],\n",
              "       ['B'],\n",
              "       ['B'],\n",
              "       ['B'],\n",
              "       ['B'],\n",
              "       ['B'],\n",
              "       ['B'],\n",
              "       ['B'],\n",
              "       ['M'],\n",
              "       ['B'],\n",
              "       ['M'],\n",
              "       ['M'],\n",
              "       ['B'],\n",
              "       ['B'],\n",
              "       ['B'],\n",
              "       ['B'],\n",
              "       ['B'],\n",
              "       ['B'],\n",
              "       ['B'],\n",
              "       ['B'],\n",
              "       ['B'],\n",
              "       ['B'],\n",
              "       ['B'],\n",
              "       ['B'],\n",
              "       ['B'],\n",
              "       ['B'],\n",
              "       ['B'],\n",
              "       ['B'],\n",
              "       ['B'],\n",
              "       ['B'],\n",
              "       ['B'],\n",
              "       ['B'],\n",
              "       ['B'],\n",
              "       ['B'],\n",
              "       ['B'],\n",
              "       ['B'],\n",
              "       ['B'],\n",
              "       ['M'],\n",
              "       ['M'],\n",
              "       ['M'],\n",
              "       ['M'],\n",
              "       ['M'],\n",
              "       ['M'],\n",
              "       ['B']], dtype=object)"
            ]
          },
          "metadata": {
            "tags": []
          },
          "execution_count": 36
        }
      ]
    },
    {
      "cell_type": "code",
      "metadata": {
        "id": "897YXSjv55ZC",
        "colab": {
          "base_uri": "https://localhost:8080/"
        },
        "outputId": "12fbdcfa-2265-411f-b39b-4cf46d32ad2f"
      },
      "source": [
        "# encode the labels, converting them from strings to integers\n",
        "lb = LabelBinarizer()\n",
        "labels = lb.fit_transform(Y)\n",
        "print(labels)"
      ],
      "execution_count": 37,
      "outputs": [
        {
          "output_type": "stream",
          "text": [
            "[[1]\n",
            " [1]\n",
            " [1]\n",
            " [1]\n",
            " [1]\n",
            " [1]\n",
            " [1]\n",
            " [1]\n",
            " [1]\n",
            " [1]\n",
            " [1]\n",
            " [1]\n",
            " [1]\n",
            " [1]\n",
            " [1]\n",
            " [1]\n",
            " [1]\n",
            " [1]\n",
            " [1]\n",
            " [0]\n",
            " [0]\n",
            " [0]\n",
            " [1]\n",
            " [1]\n",
            " [1]\n",
            " [1]\n",
            " [1]\n",
            " [1]\n",
            " [1]\n",
            " [1]\n",
            " [1]\n",
            " [1]\n",
            " [1]\n",
            " [1]\n",
            " [1]\n",
            " [1]\n",
            " [1]\n",
            " [0]\n",
            " [1]\n",
            " [1]\n",
            " [1]\n",
            " [1]\n",
            " [1]\n",
            " [1]\n",
            " [1]\n",
            " [1]\n",
            " [0]\n",
            " [1]\n",
            " [0]\n",
            " [0]\n",
            " [0]\n",
            " [0]\n",
            " [0]\n",
            " [1]\n",
            " [1]\n",
            " [0]\n",
            " [1]\n",
            " [1]\n",
            " [0]\n",
            " [0]\n",
            " [0]\n",
            " [0]\n",
            " [1]\n",
            " [0]\n",
            " [1]\n",
            " [1]\n",
            " [0]\n",
            " [0]\n",
            " [0]\n",
            " [0]\n",
            " [1]\n",
            " [0]\n",
            " [1]\n",
            " [1]\n",
            " [0]\n",
            " [1]\n",
            " [0]\n",
            " [1]\n",
            " [1]\n",
            " [0]\n",
            " [0]\n",
            " [0]\n",
            " [1]\n",
            " [1]\n",
            " [0]\n",
            " [1]\n",
            " [1]\n",
            " [1]\n",
            " [0]\n",
            " [0]\n",
            " [0]\n",
            " [1]\n",
            " [0]\n",
            " [0]\n",
            " [1]\n",
            " [1]\n",
            " [0]\n",
            " [0]\n",
            " [0]\n",
            " [1]\n",
            " [1]\n",
            " [0]\n",
            " [0]\n",
            " [0]\n",
            " [0]\n",
            " [1]\n",
            " [0]\n",
            " [0]\n",
            " [1]\n",
            " [0]\n",
            " [0]\n",
            " [0]\n",
            " [0]\n",
            " [0]\n",
            " [0]\n",
            " [0]\n",
            " [0]\n",
            " [1]\n",
            " [1]\n",
            " [1]\n",
            " [0]\n",
            " [1]\n",
            " [1]\n",
            " [0]\n",
            " [0]\n",
            " [0]\n",
            " [1]\n",
            " [1]\n",
            " [0]\n",
            " [1]\n",
            " [0]\n",
            " [1]\n",
            " [1]\n",
            " [0]\n",
            " [1]\n",
            " [1]\n",
            " [0]\n",
            " [0]\n",
            " [1]\n",
            " [0]\n",
            " [0]\n",
            " [1]\n",
            " [0]\n",
            " [0]\n",
            " [0]\n",
            " [0]\n",
            " [1]\n",
            " [0]\n",
            " [0]\n",
            " [0]\n",
            " [0]\n",
            " [0]\n",
            " [0]\n",
            " [0]\n",
            " [0]\n",
            " [0]\n",
            " [1]\n",
            " [0]\n",
            " [0]\n",
            " [0]\n",
            " [0]\n",
            " [1]\n",
            " [1]\n",
            " [0]\n",
            " [1]\n",
            " [0]\n",
            " [0]\n",
            " [1]\n",
            " [1]\n",
            " [0]\n",
            " [0]\n",
            " [1]\n",
            " [1]\n",
            " [0]\n",
            " [0]\n",
            " [0]\n",
            " [0]\n",
            " [1]\n",
            " [0]\n",
            " [0]\n",
            " [1]\n",
            " [1]\n",
            " [1]\n",
            " [0]\n",
            " [1]\n",
            " [0]\n",
            " [1]\n",
            " [0]\n",
            " [0]\n",
            " [0]\n",
            " [1]\n",
            " [0]\n",
            " [0]\n",
            " [1]\n",
            " [1]\n",
            " [0]\n",
            " [1]\n",
            " [1]\n",
            " [1]\n",
            " [1]\n",
            " [0]\n",
            " [1]\n",
            " [1]\n",
            " [1]\n",
            " [0]\n",
            " [1]\n",
            " [0]\n",
            " [1]\n",
            " [0]\n",
            " [0]\n",
            " [1]\n",
            " [0]\n",
            " [1]\n",
            " [1]\n",
            " [1]\n",
            " [1]\n",
            " [0]\n",
            " [0]\n",
            " [1]\n",
            " [1]\n",
            " [0]\n",
            " [0]\n",
            " [0]\n",
            " [1]\n",
            " [0]\n",
            " [0]\n",
            " [0]\n",
            " [0]\n",
            " [0]\n",
            " [1]\n",
            " [1]\n",
            " [0]\n",
            " [0]\n",
            " [1]\n",
            " [0]\n",
            " [0]\n",
            " [1]\n",
            " [1]\n",
            " [0]\n",
            " [1]\n",
            " [0]\n",
            " [0]\n",
            " [0]\n",
            " [0]\n",
            " [1]\n",
            " [0]\n",
            " [0]\n",
            " [0]\n",
            " [0]\n",
            " [0]\n",
            " [1]\n",
            " [0]\n",
            " [1]\n",
            " [1]\n",
            " [1]\n",
            " [1]\n",
            " [1]\n",
            " [1]\n",
            " [1]\n",
            " [1]\n",
            " [1]\n",
            " [1]\n",
            " [1]\n",
            " [1]\n",
            " [1]\n",
            " [1]\n",
            " [0]\n",
            " [0]\n",
            " [0]\n",
            " [0]\n",
            " [0]\n",
            " [0]\n",
            " [1]\n",
            " [0]\n",
            " [1]\n",
            " [0]\n",
            " [0]\n",
            " [1]\n",
            " [0]\n",
            " [0]\n",
            " [1]\n",
            " [0]\n",
            " [1]\n",
            " [1]\n",
            " [0]\n",
            " [0]\n",
            " [0]\n",
            " [0]\n",
            " [0]\n",
            " [0]\n",
            " [0]\n",
            " [0]\n",
            " [0]\n",
            " [0]\n",
            " [0]\n",
            " [0]\n",
            " [0]\n",
            " [1]\n",
            " [0]\n",
            " [0]\n",
            " [1]\n",
            " [0]\n",
            " [1]\n",
            " [0]\n",
            " [0]\n",
            " [0]\n",
            " [0]\n",
            " [0]\n",
            " [0]\n",
            " [0]\n",
            " [0]\n",
            " [0]\n",
            " [0]\n",
            " [0]\n",
            " [0]\n",
            " [0]\n",
            " [0]\n",
            " [1]\n",
            " [0]\n",
            " [0]\n",
            " [0]\n",
            " [1]\n",
            " [0]\n",
            " [1]\n",
            " [0]\n",
            " [0]\n",
            " [0]\n",
            " [0]\n",
            " [1]\n",
            " [1]\n",
            " [1]\n",
            " [0]\n",
            " [0]\n",
            " [0]\n",
            " [0]\n",
            " [1]\n",
            " [0]\n",
            " [1]\n",
            " [0]\n",
            " [1]\n",
            " [0]\n",
            " [0]\n",
            " [0]\n",
            " [1]\n",
            " [0]\n",
            " [0]\n",
            " [0]\n",
            " [0]\n",
            " [0]\n",
            " [0]\n",
            " [0]\n",
            " [1]\n",
            " [1]\n",
            " [1]\n",
            " [0]\n",
            " [0]\n",
            " [0]\n",
            " [0]\n",
            " [0]\n",
            " [0]\n",
            " [0]\n",
            " [0]\n",
            " [0]\n",
            " [0]\n",
            " [0]\n",
            " [1]\n",
            " [1]\n",
            " [0]\n",
            " [1]\n",
            " [1]\n",
            " [1]\n",
            " [0]\n",
            " [1]\n",
            " [1]\n",
            " [0]\n",
            " [0]\n",
            " [0]\n",
            " [0]\n",
            " [0]\n",
            " [1]\n",
            " [0]\n",
            " [0]\n",
            " [0]\n",
            " [0]\n",
            " [0]\n",
            " [1]\n",
            " [0]\n",
            " [0]\n",
            " [0]\n",
            " [1]\n",
            " [0]\n",
            " [0]\n",
            " [1]\n",
            " [1]\n",
            " [0]\n",
            " [0]\n",
            " [0]\n",
            " [0]\n",
            " [0]\n",
            " [0]\n",
            " [1]\n",
            " [0]\n",
            " [0]\n",
            " [0]\n",
            " [0]\n",
            " [0]\n",
            " [0]\n",
            " [0]\n",
            " [1]\n",
            " [0]\n",
            " [0]\n",
            " [0]\n",
            " [0]\n",
            " [0]\n",
            " [1]\n",
            " [0]\n",
            " [0]\n",
            " [1]\n",
            " [0]\n",
            " [0]\n",
            " [0]\n",
            " [0]\n",
            " [0]\n",
            " [0]\n",
            " [0]\n",
            " [0]\n",
            " [0]\n",
            " [0]\n",
            " [0]\n",
            " [0]\n",
            " [1]\n",
            " [0]\n",
            " [1]\n",
            " [1]\n",
            " [0]\n",
            " [1]\n",
            " [0]\n",
            " [0]\n",
            " [0]\n",
            " [0]\n",
            " [0]\n",
            " [1]\n",
            " [0]\n",
            " [0]\n",
            " [1]\n",
            " [0]\n",
            " [1]\n",
            " [0]\n",
            " [0]\n",
            " [1]\n",
            " [0]\n",
            " [1]\n",
            " [0]\n",
            " [0]\n",
            " [0]\n",
            " [0]\n",
            " [0]\n",
            " [0]\n",
            " [0]\n",
            " [0]\n",
            " [1]\n",
            " [1]\n",
            " [0]\n",
            " [0]\n",
            " [0]\n",
            " [0]\n",
            " [0]\n",
            " [0]\n",
            " [1]\n",
            " [0]\n",
            " [0]\n",
            " [0]\n",
            " [0]\n",
            " [0]\n",
            " [0]\n",
            " [0]\n",
            " [0]\n",
            " [0]\n",
            " [0]\n",
            " [1]\n",
            " [0]\n",
            " [0]\n",
            " [0]\n",
            " [0]\n",
            " [0]\n",
            " [0]\n",
            " [0]\n",
            " [1]\n",
            " [0]\n",
            " [1]\n",
            " [0]\n",
            " [0]\n",
            " [1]\n",
            " [0]\n",
            " [0]\n",
            " [0]\n",
            " [0]\n",
            " [0]\n",
            " [1]\n",
            " [1]\n",
            " [0]\n",
            " [1]\n",
            " [0]\n",
            " [1]\n",
            " [0]\n",
            " [0]\n",
            " [0]\n",
            " [0]\n",
            " [0]\n",
            " [1]\n",
            " [0]\n",
            " [0]\n",
            " [1]\n",
            " [0]\n",
            " [1]\n",
            " [0]\n",
            " [1]\n",
            " [1]\n",
            " [0]\n",
            " [0]\n",
            " [0]\n",
            " [1]\n",
            " [0]\n",
            " [0]\n",
            " [0]\n",
            " [0]\n",
            " [0]\n",
            " [0]\n",
            " [0]\n",
            " [0]\n",
            " [0]\n",
            " [0]\n",
            " [0]\n",
            " [1]\n",
            " [0]\n",
            " [1]\n",
            " [1]\n",
            " [0]\n",
            " [0]\n",
            " [0]\n",
            " [0]\n",
            " [0]\n",
            " [0]\n",
            " [0]\n",
            " [0]\n",
            " [0]\n",
            " [0]\n",
            " [0]\n",
            " [0]\n",
            " [0]\n",
            " [0]\n",
            " [0]\n",
            " [0]\n",
            " [0]\n",
            " [0]\n",
            " [0]\n",
            " [0]\n",
            " [0]\n",
            " [0]\n",
            " [0]\n",
            " [0]\n",
            " [0]\n",
            " [1]\n",
            " [1]\n",
            " [1]\n",
            " [1]\n",
            " [1]\n",
            " [1]\n",
            " [0]]\n"
          ],
          "name": "stdout"
        }
      ]
    },
    {
      "cell_type": "code",
      "metadata": {
        "colab": {
          "base_uri": "https://localhost:8080/"
        },
        "id": "_pcXvXBq59PY",
        "outputId": "229b2ee3-dda2-48c4-8592-2a292fc964ca"
      },
      "source": [
        "(trainX, testX, trainY, testY) = train_test_split(X,\tnp.array(labels), test_size=0.2)\n",
        "print(trainX.shape)\n",
        "print(testX.shape)\n",
        "print(trainY.shape)\n",
        "print(testY.shape)"
      ],
      "execution_count": 38,
      "outputs": [
        {
          "output_type": "stream",
          "text": [
            "(455, 4)\n",
            "(114, 4)\n",
            "(455, 1)\n",
            "(114, 1)\n"
          ],
          "name": "stdout"
        }
      ]
    },
    {
      "cell_type": "code",
      "metadata": {
        "id": "73GGlwI76EkY"
      },
      "source": [
        "#model ANN\n",
        "\n",
        "model = Sequential(\n",
        "    [\n",
        "        Dense(32, activation=\"relu\", input_shape=(4,)), #hidden layer 1\n",
        "        Dense(16, activation=\"relu\"), #hidden layer 2\n",
        "        # Dense(16, activation=\"relu\"),\n",
        "        # Dense(8, activation=\"relu\"),\n",
        "        Dense(1, activation = \"sigmoid\"),\n",
        "    ]\n",
        ")"
      ],
      "execution_count": 39,
      "outputs": []
    },
    {
      "cell_type": "code",
      "metadata": {
        "colab": {
          "base_uri": "https://localhost:8080/"
        },
        "id": "oWptPSzZ6V-_",
        "outputId": "4f43ae27-c1bb-411c-e2be-fadb3ff9575f"
      },
      "source": [
        "model.summary()"
      ],
      "execution_count": 40,
      "outputs": [
        {
          "output_type": "stream",
          "text": [
            "Model: \"sequential\"\n",
            "_________________________________________________________________\n",
            "Layer (type)                 Output Shape              Param #   \n",
            "=================================================================\n",
            "dense (Dense)                (None, 32)                160       \n",
            "_________________________________________________________________\n",
            "dense_1 (Dense)              (None, 16)                528       \n",
            "_________________________________________________________________\n",
            "dense_2 (Dense)              (None, 1)                 17        \n",
            "=================================================================\n",
            "Total params: 705\n",
            "Trainable params: 705\n",
            "Non-trainable params: 0\n",
            "_________________________________________________________________\n"
          ],
          "name": "stdout"
        }
      ]
    },
    {
      "cell_type": "code",
      "metadata": {
        "colab": {
          "base_uri": "https://localhost:8080/"
        },
        "id": "-IoP9cED60mA",
        "outputId": "d2ba1d78-a228-4ec7-c182-c1a2dfdebb67"
      },
      "source": [
        "# train the model using the Adam optimizer\n",
        "print(\"[INFO] training network...\")\n",
        "opt = Adam(lr=1e-3, decay=1e-3 / 50)\n",
        "model.compile(loss=\"binary_crossentropy\", optimizer=opt, #2 kelas --> binary_crossentropy\n",
        "\tmetrics=[\"accuracy\"])\n",
        "H = model.fit(trainX, trainY, validation_data=(testX, testY), epochs=20, batch_size=20)"
      ],
      "execution_count": 41,
      "outputs": [
        {
          "output_type": "stream",
          "text": [
            "[INFO] training network...\n"
          ],
          "name": "stdout"
        },
        {
          "output_type": "stream",
          "text": [
            "/usr/local/lib/python3.7/dist-packages/tensorflow/python/keras/optimizer_v2/optimizer_v2.py:375: UserWarning: The `lr` argument is deprecated, use `learning_rate` instead.\n",
            "  \"The `lr` argument is deprecated, use `learning_rate` instead.\")\n"
          ],
          "name": "stderr"
        },
        {
          "output_type": "stream",
          "text": [
            "Epoch 1/20\n",
            "23/23 [==============================] - 14s 31ms/step - loss: 61.7250 - accuracy: 0.6110 - val_loss: 5.1575 - val_accuracy: 0.6491\n",
            "Epoch 2/20\n",
            "23/23 [==============================] - 0s 2ms/step - loss: 3.1396 - accuracy: 0.5255 - val_loss: 1.1213 - val_accuracy: 0.6491\n",
            "Epoch 3/20\n",
            "23/23 [==============================] - 0s 2ms/step - loss: 0.9128 - accuracy: 0.5166 - val_loss: 0.4468 - val_accuracy: 0.8421\n",
            "Epoch 4/20\n",
            "23/23 [==============================] - 0s 2ms/step - loss: 0.4217 - accuracy: 0.8440 - val_loss: 0.4022 - val_accuracy: 0.8246\n",
            "Epoch 5/20\n",
            "23/23 [==============================] - 0s 2ms/step - loss: 0.3570 - accuracy: 0.8490 - val_loss: 0.3968 - val_accuracy: 0.8070\n",
            "Epoch 6/20\n",
            "23/23 [==============================] - 0s 2ms/step - loss: 0.3732 - accuracy: 0.8576 - val_loss: 0.3744 - val_accuracy: 0.8421\n",
            "Epoch 7/20\n",
            "23/23 [==============================] - 0s 3ms/step - loss: 0.3408 - accuracy: 0.8760 - val_loss: 0.3716 - val_accuracy: 0.8246\n",
            "Epoch 8/20\n",
            "23/23 [==============================] - 0s 3ms/step - loss: 0.3413 - accuracy: 0.8649 - val_loss: 0.3718 - val_accuracy: 0.8509\n",
            "Epoch 9/20\n",
            "23/23 [==============================] - 0s 3ms/step - loss: 0.3601 - accuracy: 0.8578 - val_loss: 0.3570 - val_accuracy: 0.8596\n",
            "Epoch 10/20\n",
            "23/23 [==============================] - 0s 2ms/step - loss: 0.3126 - accuracy: 0.8826 - val_loss: 0.3797 - val_accuracy: 0.8333\n",
            "Epoch 11/20\n",
            "23/23 [==============================] - 0s 2ms/step - loss: 0.3597 - accuracy: 0.8187 - val_loss: 0.3828 - val_accuracy: 0.8158\n",
            "Epoch 12/20\n",
            "23/23 [==============================] - 0s 3ms/step - loss: 0.3177 - accuracy: 0.8681 - val_loss: 0.4269 - val_accuracy: 0.7895\n",
            "Epoch 13/20\n",
            "23/23 [==============================] - 0s 3ms/step - loss: 0.3237 - accuracy: 0.8409 - val_loss: 0.3654 - val_accuracy: 0.8421\n",
            "Epoch 14/20\n",
            "23/23 [==============================] - 0s 2ms/step - loss: 0.3279 - accuracy: 0.8488 - val_loss: 0.3630 - val_accuracy: 0.8596\n",
            "Epoch 15/20\n",
            "23/23 [==============================] - 0s 2ms/step - loss: 0.2871 - accuracy: 0.8926 - val_loss: 0.5191 - val_accuracy: 0.7632\n",
            "Epoch 16/20\n",
            "23/23 [==============================] - 0s 3ms/step - loss: 0.3944 - accuracy: 0.8381 - val_loss: 0.3638 - val_accuracy: 0.8509\n",
            "Epoch 17/20\n",
            "23/23 [==============================] - 0s 3ms/step - loss: 0.3112 - accuracy: 0.8676 - val_loss: 0.3588 - val_accuracy: 0.8596\n",
            "Epoch 18/20\n",
            "23/23 [==============================] - 0s 2ms/step - loss: 0.2733 - accuracy: 0.8817 - val_loss: 0.3591 - val_accuracy: 0.8596\n",
            "Epoch 19/20\n",
            "23/23 [==============================] - 0s 2ms/step - loss: 0.3381 - accuracy: 0.8391 - val_loss: 0.3852 - val_accuracy: 0.8333\n",
            "Epoch 20/20\n",
            "23/23 [==============================] - 0s 2ms/step - loss: 0.3088 - accuracy: 0.8717 - val_loss: 0.4022 - val_accuracy: 0.8158\n"
          ],
          "name": "stdout"
        }
      ]
    },
    {
      "cell_type": "code",
      "metadata": {
        "colab": {
          "base_uri": "https://localhost:8080/",
          "height": 590
        },
        "id": "-SOALOs_6-IY",
        "outputId": "6f68ecb3-b774-42f2-ed91-3806b8713efe"
      },
      "source": [
        "import matplotlib.pyplot as plt\n",
        "\n",
        "print(H.history.keys())\n",
        "# summarize history for accuracy\n",
        "plt.plot(H.history['accuracy'])\n",
        "plt.plot(H.history['val_accuracy'])\n",
        "plt.title('model accuracy')\n",
        "plt.ylabel('accuracy')\n",
        "plt.xlabel('epoch')\n",
        "plt.legend(['train', 'test'], loc='upper left')\n",
        "plt.show()\n",
        "# summarize history for loss\n",
        "plt.plot(H.history['loss'])\n",
        "plt.plot(H.history['val_loss'])\n",
        "plt.title('model loss')\n",
        "plt.ylabel('loss')\n",
        "plt.xlabel('epoch')\n",
        "plt.legend(['train', 'test'], loc='upper left')\n",
        "plt.show()"
      ],
      "execution_count": 42,
      "outputs": [
        {
          "output_type": "stream",
          "text": [
            "dict_keys(['loss', 'accuracy', 'val_loss', 'val_accuracy'])\n"
          ],
          "name": "stdout"
        },
        {
          "output_type": "display_data",
          "data": {
            "image/png": "[encoded data removed]",
            "text/plain": [
              "<Figure size 432x288 with 1 Axes>"
            ]
          },
          "metadata": {
            "tags": [],
            "needs_background": "light"
          }
        },
        {
          "output_type": "display_data",
          "data": {
            "image/png": "[encoded data removed]",
            "text/plain": [
              "<Figure size 432x288 with 1 Axes>"
            ]
          },
          "metadata": {
            "tags": [],
            "needs_background": "light"
          }
        }
      ]
    },
    {
      "cell_type": "markdown",
      "metadata": {
        "id": "r8AKW5RDVIYo"
      },
      "source": [
        "#**PCA**"
      ]
    },
    {
      "cell_type": "code",
      "metadata": {
        "id": "MyjLvi1l7CsX"
      },
      "source": [
        "import matplotlib.pyplot as plt\n",
        "from mpl_toolkits.mplot3d import Axes3D"
      ],
      "execution_count": 44,
      "outputs": []
    },
    {
      "cell_type": "code",
      "metadata": {
        "id": "HmKqaxv9VYO4"
      },
      "source": [
        "from sklearn import decomposition\n",
        "from sklearn import datasets "
      ],
      "execution_count": 45,
      "outputs": []
    },
    {
      "cell_type": "code",
      "metadata": {
        "id": "PrIdXlW9WVgk"
      },
      "source": [
        "np.random.seed(5)\n",
        "\n",
        "centers = [[1, 1], [-1, -1], [1, -1]]\n",
        "iris = datasets.load_iris()\n",
        "X = iris.data\n",
        "y = iris.target"
      ],
      "execution_count": 47,
      "outputs": []
    },
    {
      "cell_type": "code",
      "metadata": {
        "colab": {
          "base_uri": "https://localhost:8080/",
          "height": 247
        },
        "id": "V4ucT-B0XHGv",
        "outputId": "89faebe5-8a49-40b6-b7b9-905a8765b670"
      },
      "source": [
        "fig = plt.figure(1, figsize=(4, 3))\n",
        "plt.clf()\n",
        "ax = Axes3D(fig, rect=[0, 0, .95, 1], elev=48, azim=134)\n",
        "\n",
        "plt.cla()\n",
        "pca = decomposition.PCA(n_components=3)\n",
        "pca.fit(X)\n",
        "\n",
        "for name, label in [('Setosa', 0), ('Versicolour', 1), ('Virginica', 2)]:\n",
        "    ax.text3D(X[y == label, 0].mean(),\n",
        "              X[y == label, 1].mean() + 1.5,\n",
        "              X[y == label, 2].mean(), name,\n",
        "              horizontalalignment='center',\n",
        "              bbox=dict(alpha=.5, edgecolor='w', facecolor='w'))\n",
        "# Reorder the labels\n",
        "y = np.choose(y, [1, 2, 0]).astype(np.float)\n",
        "ax.scatter(X[:, 0], X[:, 1], X[:, 2], c=y, cmap=plt.cm.nipy_spectral, \n",
        "           edgecolor='k')\n",
        "\n",
        "ax.w_xaxis.set_ticklabels([])\n",
        "ax.w_yaxis.set_ticklabels([])\n",
        "ax.w_zaxis.set_ticklabels([])\n",
        "\n",
        "plt.show()"
      ],
      "execution_count": 58,
      "outputs": [
        {
          "output_type": "display_data",
          "data": {
            "image/png": "[encoded data removed]",
            "text/plain": [
              "<Figure size 288x216 with 1 Axes>"
            ]
          },
          "metadata": {
            "tags": [],
            "needs_background": "light"
          }
        }
      ]
    },
    {
      "cell_type": "markdown",
      "metadata": {
        "id": "NhA2lC7HbmFh"
      },
      "source": [
        "# **LDA**"
      ]
    },
    {
      "cell_type": "code",
      "metadata": {
        "id": "85rMytlrbwtW"
      },
      "source": [
        "from sklearn.decomposition import PCA\n",
        "from sklearn.discriminant_analysis import LinearDiscriminantAnalysis"
      ],
      "execution_count": 76,
      "outputs": []
    },
    {
      "cell_type": "code",
      "metadata": {
        "colab": {
          "base_uri": "https://localhost:8080/"
        },
        "id": "XGrOY9IXcKxV",
        "outputId": "4d7cdae1-1b1e-4a0c-bf6f-14d3a9f497cf"
      },
      "source": [
        "iris = datasets.load_iris()\n",
        "\n",
        "x = iris.data\n",
        "y = iris.target\n",
        "target_names = iris.target_names\n",
        "\n",
        "pca = PCA(n_components=2)\n",
        "X_r = pca.fit(x).transform(x)\n",
        "\n",
        "lda = LinearDiscriminantAnalysis(n_components=2)\n",
        "X_r2 = lda.fit(X, y).transform(x)\n",
        "\n",
        "print('explained variance ratio (first two components): %s'\n",
        "        % str(pca.explained_variance_ratio_))"
      ],
      "execution_count": 77,
      "outputs": [
        {
          "output_type": "stream",
          "text": [
            "explained variance ratio (first two components): [0.92461872 0.05306648]\n"
          ],
          "name": "stdout"
        }
      ]
    },
    {
      "cell_type": "code",
      "metadata": {
        "colab": {
          "base_uri": "https://localhost:8080/",
          "height": 545
        },
        "id": "6SACVaBGdNDc",
        "outputId": "5b2c3eaa-7d6b-4b5e-9f74-7b64e4c6b240"
      },
      "source": [
        "plt.figure()\n",
        "colors = ['navy', 'turquoise', 'darkorange']\n",
        "lw = 2\n",
        "\n",
        "for color, i, target_name in zip(colors, [0, 1, 2], target_names):\n",
        "    plt.scatter(X_r[y == i, 0], X_r[y == i, 1], color=color, alpha=.8, lw=lw, \n",
        "                label=target_name)\n",
        "plt.legend(loc='best', shadow=False, scatterpoints=1)\n",
        "plt.title('PCA of IRIS dataset')\n",
        "\n",
        "plt.figure()\n",
        "for color, i, target_name in zip(colors, [0, 1, 2], target_names):\n",
        "  plt.scatter(X_r2[y == i, 0], X_r2[y == i, 1],  alpha=.8, color=color,\n",
        "              label=target_name)\n",
        "plt.legend(loc='best', shadow=False, scatterpoints=1)\n",
        "plt.title('LDA of IRIS dataset')\n",
        "\n",
        "plt.show()"
      ],
      "execution_count": 78,
      "outputs": [
        {
          "output_type": "display_data",
          "data": {
            "image/png": "[encoded data removed]",
            "text/plain": [
              "<Figure size 432x288 with 1 Axes>"
            ]
          },
          "metadata": {
            "tags": [],
            "needs_background": "light"
          }
        },
        {
          "output_type": "display_data",
          "data": {
            "image/png": "[encoded data removed]",
            "text/plain": [
              "<Figure size 432x288 with 1 Axes>"
            ]
          },
          "metadata": {
            "tags": [],
            "needs_background": "light"
          }
        }
      ]
    },
    {
      "cell_type": "markdown",
      "metadata": {
        "id": "glaH1FEuiSGP"
      },
      "source": [
        "# **FA**"
      ]
    },
    {
      "cell_type": "code",
      "metadata": {
        "id": "Z3lAlJu9iVBk"
      },
      "source": [
        "from sklearn.decomposition import FactorAnalysis"
      ],
      "execution_count": 80,
      "outputs": []
    },
    {
      "cell_type": "code",
      "metadata": {
        "colab": {
          "base_uri": "https://localhost:8080/"
        },
        "id": "v4eX_dp4igzG",
        "outputId": "18da2b1f-5167-4a50-aa7b-d3c4d9739d9e"
      },
      "source": [
        "fa = FactorAnalysis(n_components=2)\n",
        "iris_two_dim = fa.fit_transform(iris.data)\n",
        "iris_two_dim[:5]"
      ],
      "execution_count": 81,
      "outputs": [
        {
          "output_type": "execute_result",
          "data": {
            "text/plain": [
              "array([[-1.32761727, -0.56131076],\n",
              "       [-1.33763854, -0.00279765],\n",
              "       [-1.40281483,  0.30634949],\n",
              "       [-1.30104274,  0.71882683],\n",
              "       [-1.33342439, -0.36458899]])"
            ]
          },
          "metadata": {
            "tags": []
          },
          "execution_count": 81
        }
      ]
    }
  ]
}